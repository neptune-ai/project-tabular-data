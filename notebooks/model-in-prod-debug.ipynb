{
 "cells": [
  {
   "cell_type": "markdown",
   "id": "88dfe732-9c3e-4a6d-8a23-2129f848d60e",
   "metadata": {},
   "source": [
    "# Model in-prod, debugging, run: \"PTD-80\""
   ]
  },
  {
   "cell_type": "code",
   "execution_count": null,
   "id": "142daf03-d56b-426a-8dcf-06408f9a3f11",
   "metadata": {},
   "outputs": [],
   "source": [
    "import pickle\n",
    "import shap\n",
    "\n",
    "import neptune.new as neptune\n",
    "import pandas as pd\n",
    "import xgboost as xgb\n",
    "\n",
    "from sklearn.impute import SimpleImputer\n",
    "from sklearn.model_selection import train_test_split"
   ]
  },
  {
   "cell_type": "code",
   "execution_count": null,
   "id": "53d266a2-05ba-4991-83e4-20f1bf67e561",
   "metadata": {},
   "outputs": [],
   "source": [
    "rnd_state = 987245\n",
    "base_namespace = \"model_debugging\"\n",
    "run_id = \"PTD-80\""
   ]
  },
  {
   "cell_type": "markdown",
   "id": "673a2071-6d09-472c-9766-23679d57d0e4",
   "metadata": {},
   "source": [
    "## Fetch project and resume run"
   ]
  },
  {
   "cell_type": "code",
   "execution_count": null,
   "id": "ce894500-f432-48f2-8c92-cc8588c073e1",
   "metadata": {},
   "outputs": [],
   "source": [
    "project = neptune.get_project(name=\"common/project-tabular-data\")\n",
    "\n",
    "run = neptune.init(\n",
    "    project=\"common/project-tabular-data\",\n",
    "    run=run_id,\n",
    "    monitoring_namespace=f\"{base_namespace}/monitoring\",\n",
    ")"
   ]
  },
  {
   "cell_type": "markdown",
   "id": "b1196e03-7304-4896-89c5-cc83c4391b0f",
   "metadata": {},
   "source": [
    "## Download model from the run"
   ]
  },
  {
   "cell_type": "code",
   "execution_count": null,
   "id": "ef06de35-d82a-41ea-8fb9-1bdae34a4192",
   "metadata": {},
   "outputs": [],
   "source": [
    "run[\"model_training/pickled_model\"].download(\"xgb.model\")\n",
    "with open(\"xgb.model\", \"rb\") as file:\n",
    "    bst = pickle.load(file)"
   ]
  },
  {
   "cell_type": "markdown",
   "id": "c194d0ff-ae7f-43d3-9305-b63e8c70f23e",
   "metadata": {},
   "source": [
    "## Prepare data"
   ]
  },
  {
   "cell_type": "code",
   "execution_count": null,
   "id": "1e2872bf-4ad4-48d4-8367-a18286ab43dd",
   "metadata": {},
   "outputs": [],
   "source": [
    "data = pd.read_csv('../data/train.csv')\n",
    "data.dropna(axis=0, subset=['SalePrice'], inplace=True)\n",
    "y = data.SalePrice\n",
    "X = data.drop(['SalePrice'], axis=1).select_dtypes(exclude=['object'])"
   ]
  },
  {
   "cell_type": "markdown",
   "id": "d98d8fff-954b-4359-bb17-bc68757304de",
   "metadata": {},
   "source": [
    "## Run model debugging logic and log results"
   ]
  },
  {
   "cell_type": "markdown",
   "id": "fc95b39e-607b-4ab7-a0f4-306668ace569",
   "metadata": {},
   "source": [
    "### Look at specific trees"
   ]
  },
  {
   "cell_type": "code",
   "execution_count": null,
   "id": "a1e65868-e42b-424a-81f8-b5f071510f8f",
   "metadata": {},
   "outputs": [],
   "source": [
    "ax = xgb.plot_tree(bst, num_trees=5)"
   ]
  },
  {
   "cell_type": "code",
   "execution_count": null,
   "id": "167a3155-8c84-4611-9dae-d9354675c055",
   "metadata": {},
   "outputs": [],
   "source": [
    "run[f\"{base_namespace}/trees\"].log(neptune.types.File.as_image(ax.figure))"
   ]
  },
  {
   "cell_type": "code",
   "execution_count": null,
   "id": "198305cb-28fd-44e6-9ab3-bc8c53128801",
   "metadata": {},
   "outputs": [],
   "source": [
    "ax = xgb.plot_tree(bst, num_trees=6)"
   ]
  },
  {
   "cell_type": "code",
   "execution_count": null,
   "id": "b670c210-7e9d-4747-a902-47c45b743b9e",
   "metadata": {},
   "outputs": [],
   "source": [
    "run[f\"{base_namespace}/trees\"].log(neptune.types.File.as_image(ax.figure))"
   ]
  },
  {
   "cell_type": "markdown",
   "id": "f6e3513f-1583-4160-821c-7d8df5969dd6",
   "metadata": {},
   "source": [
    "### SHAP explainers"
   ]
  },
  {
   "cell_type": "code",
   "execution_count": null,
   "id": "1441ebf7-945a-4308-8902-4d346f10cd0f",
   "metadata": {},
   "outputs": [],
   "source": [
    "shap.initjs()"
   ]
  },
  {
   "cell_type": "code",
   "execution_count": null,
   "id": "6857af26-f224-41eb-86a5-48f95ba52be6",
   "metadata": {},
   "outputs": [],
   "source": [
    "explainer = shap.TreeExplainer(bst)\n",
    "shap_values = explainer.shap_values(X)"
   ]
  },
  {
   "cell_type": "code",
   "execution_count": null,
   "id": "d25cd075-560d-4484-96e9-395cac3cf194",
   "metadata": {},
   "outputs": [],
   "source": [
    "shap.force_plot(explainer.expected_value, shap_values[0,:], X.iloc[0,:])"
   ]
  },
  {
   "cell_type": "code",
   "execution_count": null,
   "id": "2a871bda-59d6-4c10-b2ae-a61769f4ed75",
   "metadata": {},
   "outputs": [],
   "source": [
    "shap.force_plot(explainer.expected_value, shap_values, X)"
   ]
  },
  {
   "cell_type": "code",
   "execution_count": null,
   "id": "7fbb978f-f01f-434f-a2e0-b0dc4f7183b3",
   "metadata": {},
   "outputs": [],
   "source": [
    "shap.summary_plot(shap_values, X)"
   ]
  },
  {
   "cell_type": "markdown",
   "id": "0effacf3-51a5-4e54-80a0-5d1a4b84012a",
   "metadata": {},
   "source": [
    "## Mark run as \"debugged\" and close it"
   ]
  },
  {
   "cell_type": "code",
   "execution_count": null,
   "id": "39b75d0f-4a59-49f3-89fe-f3ee062a5235",
   "metadata": {},
   "outputs": [],
   "source": [
    "run[\"sys/tags\"].add(\"debugged\")"
   ]
  },
  {
   "cell_type": "code",
   "execution_count": null,
   "id": "57f88356-baab-485b-8cf4-f68822805b7b",
   "metadata": {},
   "outputs": [],
   "source": [
    "run.stop()"
   ]
  }
 ],
 "metadata": {
  "kernelspec": {
   "display_name": "Python 3",
   "language": "python",
   "name": "python3"
  },
  "language_info": {
   "codemirror_mode": {
    "name": "ipython",
    "version": 3
   },
   "file_extension": ".py",
   "mimetype": "text/x-python",
   "name": "python",
   "nbconvert_exporter": "python",
   "pygments_lexer": "ipython3",
   "version": "3.7.10"
  },
  "neptune": {
   "notebookId": "aed7ab3d-58c3-43a4-8cb9-628f791b4bdb"
  }
 },
 "nbformat": 4,
 "nbformat_minor": 5
}
